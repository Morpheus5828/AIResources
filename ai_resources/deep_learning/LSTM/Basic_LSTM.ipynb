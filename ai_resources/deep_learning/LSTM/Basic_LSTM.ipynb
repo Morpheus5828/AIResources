{
 "cells": [
  {
   "cell_type": "code",
   "execution_count": 1,
   "id": "059e9d56-fc83-4aa7-84ba-c31c427e0d8f",
   "metadata": {},
   "outputs": [
    {
     "data": {
      "text/plain": [
       "\"\\nFrom chapter 6 in 'Apprentissage prodond avec python' from François CHOLLET\\n\""
      ]
     },
     "execution_count": 1,
     "metadata": {},
     "output_type": "execute_result"
    }
   ],
   "source": [
    "\"\"\"\n",
    "From chapter 6 in 'Apprentissage prodond avec python' from François CHOLLET\n",
    "\"\"\""
   ]
  },
  {
   "cell_type": "code",
   "execution_count": 2,
   "id": "01f136e0-0084-49d9-94cf-07761c33abe3",
   "metadata": {},
   "outputs": [],
   "source": [
    "import keras\n",
    "from keras import layers\n",
    "from keras.models import Sequential\n",
    "from keras.datasets import imdb\n",
    "import tensorflow as tf\n",
    "import numpy as np\n",
    "import matplotlib.pyplot as plt"
   ]
  },
  {
   "cell_type": "code",
   "execution_count": 3,
   "id": "52e93140-5de8-43e3-9d89-681bb1a65d13",
   "metadata": {},
   "outputs": [
    {
     "data": {
      "text/plain": [
       "PhysicalDevice(name='/physical_device:GPU:0', device_type='GPU')"
      ]
     },
     "execution_count": 3,
     "metadata": {},
     "output_type": "execute_result"
    }
   ],
   "source": [
    "physical_devices = tf.config.list_physical_devices('GPU')\n",
    "gpu = physical_devices[0]\n",
    "gpu"
   ]
  },
  {
   "cell_type": "markdown",
   "id": "39f03562-48b8-43ed-b9fe-d38b9fbaf53c",
   "metadata": {},
   "source": [
    "# Data processing"
   ]
  },
  {
   "cell_type": "code",
   "execution_count": 4,
   "id": "2e43eed3-f4ac-4da4-b1b4-ae6b859d40d9",
   "metadata": {},
   "outputs": [],
   "source": [
    "max_feature = 10_000\n",
    "maxlen = 500\n",
    "batch_size = 32"
   ]
  },
  {
   "cell_type": "code",
   "execution_count": 5,
   "id": "6a300b62-5164-4268-8685-e79e1bffd95d",
   "metadata": {},
   "outputs": [
    {
     "data": {
      "text/plain": [
       "((25000,), (25000,), array([0, 1], dtype=int64))"
      ]
     },
     "execution_count": 5,
     "metadata": {},
     "output_type": "execute_result"
    }
   ],
   "source": [
    "(x_train, y_train), (x_test, y_test) = imdb.load_data(num_words=max_feature)\n",
    "x_train.shape, x_test.shape, np.unique(y_train)"
   ]
  },
  {
   "cell_type": "code",
   "execution_count": 6,
   "id": "d0e9b29c-f51b-43a4-bb7e-c4dcab340218",
   "metadata": {},
   "outputs": [
    {
     "data": {
      "text/plain": [
       "((25000, 500), (25000, 500))"
      ]
     },
     "execution_count": 6,
     "metadata": {},
     "output_type": "execute_result"
    }
   ],
   "source": [
    "x_train = tf.keras.utils.pad_sequences(x_train, maxlen=maxlen)\n",
    "x_test = tf.keras.utils.pad_sequences(x_test, maxlen=maxlen)\n",
    "x_train.shape, x_test.shape"
   ]
  },
  {
   "cell_type": "markdown",
   "id": "65e70442-f714-4bff-897d-e40f97105ba9",
   "metadata": {},
   "source": [
    "# Model"
   ]
  },
  {
   "cell_type": "code",
   "execution_count": 10,
   "id": "4a18ec3a-435a-411a-bccf-1ca31c48bfe3",
   "metadata": {},
   "outputs": [],
   "source": [
    "model = Sequential()\n",
    "model.add(layers.LSTM(32))\n",
    "model.add(layers.Dense(1, activation=\"sigmoid\"))"
   ]
  },
  {
   "cell_type": "code",
   "execution_count": 12,
   "id": "49f8b187-3e3d-4974-a1a5-1b64b4731ecb",
   "metadata": {},
   "outputs": [],
   "source": [
    "model.compile(\n",
    "    optimizer=\"rmsprop\",\n",
    "    loss=\"binary_crossentropy\",\n",
    "    metrics=[\"acc\"]\n",
    ")"
   ]
  },
  {
   "cell_type": "code",
   "execution_count": null,
   "id": "7d2515af-7681-4158-b80e-08cb4bc3d8a5",
   "metadata": {},
   "outputs": [],
   "source": [
    "history = model.fit(\n",
    "    x_train,\n",
    "    y_train,\n",
    "    epochs=20,\n",
    "    batch_size=32,\n",
    "    validation_split=0.2\n",
    ")"
   ]
  },
  {
   "cell_type": "markdown",
   "id": "2d6f7f60-a9e4-48c5-ae2a-96a21a69f74a",
   "metadata": {},
   "source": [
    "# Display performances curves"
   ]
  },
  {
   "cell_type": "code",
   "execution_count": null,
   "id": "70ab0edd-16b1-4cb7-929c-561b9881d6e7",
   "metadata": {},
   "outputs": [],
   "source": [
    "history_dict = history.history\n",
    "loss_values = history_dict['loss']\n",
    "val_loss_values = history_dict['val_loss']\n",
    "\n",
    "epochs = range(1, 21)\n",
    "\n",
    "plt.plot(epochs, loss_values, 'bo', label=\"Training\")\n",
    "plt.plot(epochs, val_loss_values, 'b', label=\"Validation\")\n",
    "\n",
    "plt.title(\"Loss during training process\")\n",
    "plt.xlabel(\"Nb epochs\")\n",
    "plt.ylabel(\"Loss\")\n",
    "plt.legend()"
   ]
  },
  {
   "cell_type": "code",
   "execution_count": null,
   "id": "2a68a2c9-a7c7-4cd4-a6cf-5d143c5e64ca",
   "metadata": {},
   "outputs": [],
   "source": []
  }
 ],
 "metadata": {
  "kernelspec": {
   "display_name": "Python 3 (ipykernel)",
   "language": "python",
   "name": "python3"
  },
  "language_info": {
   "codemirror_mode": {
    "name": "ipython",
    "version": 3
   },
   "file_extension": ".py",
   "mimetype": "text/x-python",
   "name": "python",
   "nbconvert_exporter": "python",
   "pygments_lexer": "ipython3",
   "version": "3.9.19"
  }
 },
 "nbformat": 4,
 "nbformat_minor": 5
}
