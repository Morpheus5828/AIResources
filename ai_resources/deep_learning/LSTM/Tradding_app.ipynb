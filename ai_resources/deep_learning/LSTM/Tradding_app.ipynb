{
 "cells": [
  {
   "cell_type": "code",
   "execution_count": 32,
   "metadata": {
    "collapsed": true
   },
   "outputs": [],
   "source": [
    "import yfinance as yf\n",
    "import pandas as pd\n",
    "from sklearn.preprocessing import StandardScaler\n",
    "import tensorflow as tf\n",
    "import keras\n",
    "from keras.layers import Embedding, LSTM, Dense, Embedding\n",
    "from keras.models import Sequential"
   ]
  },
  {
   "cell_type": "code",
   "execution_count": 31,
   "outputs": [
    {
     "data": {
      "text/plain": "PhysicalDevice(name='/physical_device:GPU:0', device_type='GPU')"
     },
     "execution_count": 31,
     "metadata": {},
     "output_type": "execute_result"
    }
   ],
   "source": [
    "physical_devices = tf.config.list_physical_devices('GPU')\n",
    "gpu = physical_devices[0]\n",
    "gpu"
   ],
   "metadata": {
    "collapsed": false
   }
  },
  {
   "cell_type": "code",
   "execution_count": 13,
   "outputs": [],
   "source": [
    "companies = [\"tsla\", \"nvda\", \"msft\", \"nflx\"]\n",
    "dataframes = [yf.Ticker(c).history(\"max\") for c in companies]\n",
    "data = pd.concat(dataframes)"
   ],
   "metadata": {
    "collapsed": false
   }
  },
  {
   "cell_type": "code",
   "execution_count": 19,
   "outputs": [
    {
     "name": "stdout",
     "output_type": "stream",
     "text": [
      "<class 'pandas.core.frame.DataFrame'>\n",
      "DatetimeIndex: 25202 entries, 2010-06-29 00:00:00-04:00 to 2024-07-23 00:00:00-04:00\n",
      "Data columns (total 7 columns):\n",
      " #   Column        Non-Null Count  Dtype  \n",
      "---  ------        --------------  -----  \n",
      " 0   Open          25202 non-null  float64\n",
      " 1   High          25202 non-null  float64\n",
      " 2   Low           25202 non-null  float64\n",
      " 3   Close         25202 non-null  float64\n",
      " 4   Volume        25202 non-null  int64  \n",
      " 5   Dividends     25202 non-null  float64\n",
      " 6   Stock Splits  25202 non-null  float64\n",
      "dtypes: float64(6), int64(1)\n",
      "memory usage: 1.5 MB\n"
     ]
    }
   ],
   "source": [
    "data.info()"
   ],
   "metadata": {
    "collapsed": false
   }
  },
  {
   "cell_type": "code",
   "execution_count": 20,
   "outputs": [
    {
     "data": {
      "text/plain": "               Open          High           Low         Close        Volume  \\\ncount  25202.000000  25202.000000  25202.000000  25202.000000  2.520200e+04   \nmean      64.222458     65.167857     63.241563     64.233294  1.932054e+08   \nstd      121.264809    122.965376    119.478562    121.262675  3.285898e+08   \nmin        0.032008      0.032605      0.030574      0.031291  2.856000e+05   \n25%        1.450776      1.478595      1.420858      1.452822  2.336392e+07   \n50%       14.987961     15.261017     14.705245     14.980826  5.895720e+07   \n75%       42.305416     42.926289     41.688933     42.292599  2.097740e+08   \nmax      692.349976    700.989990    686.090027    691.690002  9.230856e+09   \n\n          Dividends  Stock Splits  \ncount  25202.000000  25202.000000  \nmean       0.001151      0.002202  \nstd        0.028857      0.099526  \nmin        0.000000      0.000000  \n25%        0.000000      0.000000  \n50%        0.000000      0.000000  \n75%        0.000000      0.000000  \nmax        3.080000     10.000000  ",
      "text/html": "<div>\n<style scoped>\n    .dataframe tbody tr th:only-of-type {\n        vertical-align: middle;\n    }\n\n    .dataframe tbody tr th {\n        vertical-align: top;\n    }\n\n    .dataframe thead th {\n        text-align: right;\n    }\n</style>\n<table border=\"1\" class=\"dataframe\">\n  <thead>\n    <tr style=\"text-align: right;\">\n      <th></th>\n      <th>Open</th>\n      <th>High</th>\n      <th>Low</th>\n      <th>Close</th>\n      <th>Volume</th>\n      <th>Dividends</th>\n      <th>Stock Splits</th>\n    </tr>\n  </thead>\n  <tbody>\n    <tr>\n      <th>count</th>\n      <td>25202.000000</td>\n      <td>25202.000000</td>\n      <td>25202.000000</td>\n      <td>25202.000000</td>\n      <td>2.520200e+04</td>\n      <td>25202.000000</td>\n      <td>25202.000000</td>\n    </tr>\n    <tr>\n      <th>mean</th>\n      <td>64.222458</td>\n      <td>65.167857</td>\n      <td>63.241563</td>\n      <td>64.233294</td>\n      <td>1.932054e+08</td>\n      <td>0.001151</td>\n      <td>0.002202</td>\n    </tr>\n    <tr>\n      <th>std</th>\n      <td>121.264809</td>\n      <td>122.965376</td>\n      <td>119.478562</td>\n      <td>121.262675</td>\n      <td>3.285898e+08</td>\n      <td>0.028857</td>\n      <td>0.099526</td>\n    </tr>\n    <tr>\n      <th>min</th>\n      <td>0.032008</td>\n      <td>0.032605</td>\n      <td>0.030574</td>\n      <td>0.031291</td>\n      <td>2.856000e+05</td>\n      <td>0.000000</td>\n      <td>0.000000</td>\n    </tr>\n    <tr>\n      <th>25%</th>\n      <td>1.450776</td>\n      <td>1.478595</td>\n      <td>1.420858</td>\n      <td>1.452822</td>\n      <td>2.336392e+07</td>\n      <td>0.000000</td>\n      <td>0.000000</td>\n    </tr>\n    <tr>\n      <th>50%</th>\n      <td>14.987961</td>\n      <td>15.261017</td>\n      <td>14.705245</td>\n      <td>14.980826</td>\n      <td>5.895720e+07</td>\n      <td>0.000000</td>\n      <td>0.000000</td>\n    </tr>\n    <tr>\n      <th>75%</th>\n      <td>42.305416</td>\n      <td>42.926289</td>\n      <td>41.688933</td>\n      <td>42.292599</td>\n      <td>2.097740e+08</td>\n      <td>0.000000</td>\n      <td>0.000000</td>\n    </tr>\n    <tr>\n      <th>max</th>\n      <td>692.349976</td>\n      <td>700.989990</td>\n      <td>686.090027</td>\n      <td>691.690002</td>\n      <td>9.230856e+09</td>\n      <td>3.080000</td>\n      <td>10.000000</td>\n    </tr>\n  </tbody>\n</table>\n</div>"
     },
     "execution_count": 20,
     "metadata": {},
     "output_type": "execute_result"
    }
   ],
   "source": [
    "data.describe()"
   ],
   "metadata": {
    "collapsed": false
   }
  },
  {
   "cell_type": "markdown",
   "source": [
    "# Preprocessing"
   ],
   "metadata": {
    "collapsed": false
   }
  },
  {
   "cell_type": "code",
   "execution_count": 28,
   "outputs": [],
   "source": [
    "scaler = StandardScaler()\n",
    "data[[\"Open\", \"High\", \"Low\", \"Close\", \"Volume\", \"Dividends\", \"Stock Splits\"]] = scaler.fit_transform(\n",
    "    data[[\"Open\", \"High\", \"Low\", \"Close\", \"Volume\", \"Dividends\", \"Stock Splits\"]]\n",
    ")"
   ],
   "metadata": {
    "collapsed": false
   }
  },
  {
   "cell_type": "code",
   "execution_count": 29,
   "outputs": [
    {
     "data": {
      "text/plain": "               Open          High           Low         Close        Volume  \\\ncount  2.520200e+04  2.520200e+04  2.520200e+04  2.520200e+04  2.520200e+04   \nmean  -1.804410e-17  6.315434e-17 -9.022049e-18  2.706615e-17 -4.511024e-18   \nstd    1.000020e+00  1.000020e+00  1.000020e+00  1.000020e+00  1.000020e+00   \nmin   -5.293516e-01 -5.297145e-01 -5.290677e-01 -5.294562e-01 -5.871261e-01   \n25%   -5.176516e-01 -5.179550e-01 -5.174312e-01 -5.177332e-01 -5.168903e-01   \n50%   -4.060162e-01 -4.058690e-01 -4.062426e-01 -4.061715e-01 -4.085668e-01   \n75%   -1.807406e-01 -1.808803e-01 -1.803927e-01 -1.809389e-01  5.042422e-02   \nmax    5.179903e+00  5.170844e+00  5.213160e+00  5.174462e+00  2.750490e+01   \n\n          Dividends  Stock Splits  \ncount  2.520200e+04  2.520200e+04  \nmean   1.141853e-17  5.004418e-18  \nstd    1.000020e+00  1.000020e+00  \nmin   -3.988152e-02 -2.212733e-02  \n25%   -3.988152e-02 -2.212733e-02  \n50%   -3.988152e-02 -2.212733e-02  \n75%   -3.988152e-02 -2.212733e-02  \nmax    1.066946e+02  1.004559e+02  ",
      "text/html": "<div>\n<style scoped>\n    .dataframe tbody tr th:only-of-type {\n        vertical-align: middle;\n    }\n\n    .dataframe tbody tr th {\n        vertical-align: top;\n    }\n\n    .dataframe thead th {\n        text-align: right;\n    }\n</style>\n<table border=\"1\" class=\"dataframe\">\n  <thead>\n    <tr style=\"text-align: right;\">\n      <th></th>\n      <th>Open</th>\n      <th>High</th>\n      <th>Low</th>\n      <th>Close</th>\n      <th>Volume</th>\n      <th>Dividends</th>\n      <th>Stock Splits</th>\n    </tr>\n  </thead>\n  <tbody>\n    <tr>\n      <th>count</th>\n      <td>2.520200e+04</td>\n      <td>2.520200e+04</td>\n      <td>2.520200e+04</td>\n      <td>2.520200e+04</td>\n      <td>2.520200e+04</td>\n      <td>2.520200e+04</td>\n      <td>2.520200e+04</td>\n    </tr>\n    <tr>\n      <th>mean</th>\n      <td>-1.804410e-17</td>\n      <td>6.315434e-17</td>\n      <td>-9.022049e-18</td>\n      <td>2.706615e-17</td>\n      <td>-4.511024e-18</td>\n      <td>1.141853e-17</td>\n      <td>5.004418e-18</td>\n    </tr>\n    <tr>\n      <th>std</th>\n      <td>1.000020e+00</td>\n      <td>1.000020e+00</td>\n      <td>1.000020e+00</td>\n      <td>1.000020e+00</td>\n      <td>1.000020e+00</td>\n      <td>1.000020e+00</td>\n      <td>1.000020e+00</td>\n    </tr>\n    <tr>\n      <th>min</th>\n      <td>-5.293516e-01</td>\n      <td>-5.297145e-01</td>\n      <td>-5.290677e-01</td>\n      <td>-5.294562e-01</td>\n      <td>-5.871261e-01</td>\n      <td>-3.988152e-02</td>\n      <td>-2.212733e-02</td>\n    </tr>\n    <tr>\n      <th>25%</th>\n      <td>-5.176516e-01</td>\n      <td>-5.179550e-01</td>\n      <td>-5.174312e-01</td>\n      <td>-5.177332e-01</td>\n      <td>-5.168903e-01</td>\n      <td>-3.988152e-02</td>\n      <td>-2.212733e-02</td>\n    </tr>\n    <tr>\n      <th>50%</th>\n      <td>-4.060162e-01</td>\n      <td>-4.058690e-01</td>\n      <td>-4.062426e-01</td>\n      <td>-4.061715e-01</td>\n      <td>-4.085668e-01</td>\n      <td>-3.988152e-02</td>\n      <td>-2.212733e-02</td>\n    </tr>\n    <tr>\n      <th>75%</th>\n      <td>-1.807406e-01</td>\n      <td>-1.808803e-01</td>\n      <td>-1.803927e-01</td>\n      <td>-1.809389e-01</td>\n      <td>5.042422e-02</td>\n      <td>-3.988152e-02</td>\n      <td>-2.212733e-02</td>\n    </tr>\n    <tr>\n      <th>max</th>\n      <td>5.179903e+00</td>\n      <td>5.170844e+00</td>\n      <td>5.213160e+00</td>\n      <td>5.174462e+00</td>\n      <td>2.750490e+01</td>\n      <td>1.066946e+02</td>\n      <td>1.004559e+02</td>\n    </tr>\n  </tbody>\n</table>\n</div>"
     },
     "execution_count": 29,
     "metadata": {},
     "output_type": "execute_result"
    }
   ],
   "source": [
    "data.describe()"
   ],
   "metadata": {
    "collapsed": false
   }
  },
  {
   "cell_type": "markdown",
   "source": [
    "# Model"
   ],
   "metadata": {
    "collapsed": false
   }
  },
  {
   "cell_type": "code",
   "execution_count": null,
   "outputs": [],
   "source": [
    "max_feature = 10_000\n",
    "maxlen = 500\n",
    "batch_size = 32"
   ],
   "metadata": {
    "collapsed": false
   }
  },
  {
   "cell_type": "code",
   "execution_count": null,
   "outputs": [],
   "source": [
    "model = Sequential()\n",
    "model.add(Embedding(max_feature, 32))\n",
    "model.add(LSTM(32))\n",
    "model.add(Dense())"
   ],
   "metadata": {
    "collapsed": false
   }
  }
 ],
 "metadata": {
  "kernelspec": {
   "display_name": "Python 3",
   "language": "python",
   "name": "python3"
  },
  "language_info": {
   "codemirror_mode": {
    "name": "ipython",
    "version": 2
   },
   "file_extension": ".py",
   "mimetype": "text/x-python",
   "name": "python",
   "nbconvert_exporter": "python",
   "pygments_lexer": "ipython2",
   "version": "2.7.6"
  }
 },
 "nbformat": 4,
 "nbformat_minor": 0
}
